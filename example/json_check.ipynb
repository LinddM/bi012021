{
 "metadata": {
  "language_info": {
   "codemirror_mode": {
    "name": "ipython",
    "version": 3
   },
   "file_extension": ".py",
   "mimetype": "text/x-python",
   "name": "python",
   "nbconvert_exporter": "python",
   "pygments_lexer": "ipython3",
   "version": "3.8.6-candidate"
  },
  "orig_nbformat": 2,
  "kernelspec": {
   "name": "python3",
   "display_name": "Python 3",
   "language": "python"
  }
 },
 "nbformat": 4,
 "nbformat_minor": 2,
 "cells": [
  {
   "cell_type": "code",
   "execution_count": 9,
   "metadata": {},
   "outputs": [
    {
     "output_type": "execute_result",
     "data": {
      "text/plain": [
       "       sequence witness                                             script  \\\n",
       "0    4294967295          483045022100d89d0d108eb3b2215c3a724504d942d5ea...   \n",
       "1    4294967295          47304402204944e76b097a8b48a2542f69ae58f324bde3...   \n",
       "2    4294967295          2200201b460a8741624af2e3cf2f43466b9d9dfdf287b9...   \n",
       "3    4294967295          473044022062e277eea5c8ccb5d4c3f5a6ae23082de820...   \n",
       "4    4294967295          4830450221008d08197dafe1d3a58fe3743363fade8eb4...   \n",
       "..          ...     ...                                                ...   \n",
       "133  4294967295                                                              \n",
       "134  4294967295                                                              \n",
       "135  4294967295          483045022100e907fdebe899194155ca5d619c8a0c3fde...   \n",
       "136  4294967295          473044022072458c152a3675a629117c504d824493e55a...   \n",
       "137  4294967295          483045022100cf8318f4a29ec7352dccec0b9c4d2d59fe...   \n",
       "\n",
       "     prev_out.spent prev_out.spending_outpoints  prev_out.tx_index  \\\n",
       "0              True   [{'tx_index': 0, 'n': 0}]                  0   \n",
       "1              True   [{'tx_index': 0, 'n': 0}]                  0   \n",
       "2              True   [{'tx_index': 0, 'n': 0}]                  0   \n",
       "3              True   [{'tx_index': 0, 'n': 0}]                  0   \n",
       "4              True   [{'tx_index': 0, 'n': 0}]                  0   \n",
       "..              ...                         ...                ...   \n",
       "133            True   [{'tx_index': 0, 'n': 0}]                  0   \n",
       "134            True   [{'tx_index': 0, 'n': 0}]                  0   \n",
       "135            True   [{'tx_index': 0, 'n': 0}]                  0   \n",
       "136            True   [{'tx_index': 0, 'n': 0}]                  0   \n",
       "137            True   [{'tx_index': 0, 'n': 0}]                  0   \n",
       "\n",
       "     prev_out.type                       prev_out.addr  prev_out.value  \\\n",
       "0                0  1KH379RhFTL1dAzq45HkAkt7nU31vJh1ip         3190727   \n",
       "1                0  1PMf6Yon4GYVTCXeD4rKLTP5QKC52fCHDk        11950578   \n",
       "2                0  31n7Q4JQLL8xHmsna2yy1AS3JPe3KKpkTd        30949986   \n",
       "3                0  1JQttqZ71TYREWkBEHjZqLRzxC6Bcvb4ih         1206555   \n",
       "4                0  14x8G9zJ8Em4Zj74t6GEbuaNf9yPBNR4hY         1141071   \n",
       "..             ...                                 ...             ...   \n",
       "133              0                                 NaN        12970000   \n",
       "134              0                                 NaN        12980000   \n",
       "135              0  18nQqaTTEmJu98AtiKt4B8xxxPK5DuR2Ct          925630   \n",
       "136              0  1982XW9Rpwx9wxbdf7WE1Kc5t72zn2wnTm         1086700   \n",
       "137              0  1GSBLL5gZmNQyGePZYha5cpUP1NbPadDBD         2108858   \n",
       "\n",
       "     prev_out.n                                    prev_out.script lock_time  \\\n",
       "0             0  76a914c87aad6ddced2ad8e8b257632f14ee9636cbd1b4...         0   \n",
       "1             1  76a914f53ae31b575a268e904bf6ba7ad61acbc73fd713...         0   \n",
       "2             1     a91400f6a64b8936dc26bb6921388578937bfcff633e87         0   \n",
       "3             1  76a914beff062f6aba9a3e906f1e729747dc0a08ced10b...         0   \n",
       "4             1  76a9142b555111612920d115cee985c31eebe57a45cf70...         0   \n",
       "..          ...                                                ...       ...   \n",
       "133           2  00202439cb173e0826102aad636d65a9b439bc50f2bb35...         0   \n",
       "134           1  0020c063ae83925d9ab40903fb9dcfd9738545d11fb85d...         0   \n",
       "135          56  76a914555f7f516cd535ad72debc7ffcf8794380979c09...         0   \n",
       "136           6  76a91459153117775497af406dfd1c0affbfbb1069b172...         0   \n",
       "137           0  76a914a94ce95cb7546efd7c978e5310bb46d2843ecd31...         0   \n",
       "\n",
       "    ver  size weight        time  \n",
       "0     1   226    904  1611621833  \n",
       "1     2   225    900  1611621833  \n",
       "2     1   371    821  1611621833  \n",
       "3     1   223    892  1611621833  \n",
       "4     1   226    904  1611621832  \n",
       "..   ..   ...    ...         ...  \n",
       "133   1  2127   4110  1611621822  \n",
       "134   1  2127   4110  1611621822  \n",
       "135   2   192    768  1611621821  \n",
       "136   1   337   1348  1611621822  \n",
       "137   1   337   1348  1611621822  \n",
       "\n",
       "[138 rows x 16 columns]"
      ],
      "text/html": "<div>\n<style scoped>\n    .dataframe tbody tr th:only-of-type {\n        vertical-align: middle;\n    }\n\n    .dataframe tbody tr th {\n        vertical-align: top;\n    }\n\n    .dataframe thead th {\n        text-align: right;\n    }\n</style>\n<table border=\"1\" class=\"dataframe\">\n  <thead>\n    <tr style=\"text-align: right;\">\n      <th></th>\n      <th>sequence</th>\n      <th>witness</th>\n      <th>script</th>\n      <th>prev_out.spent</th>\n      <th>prev_out.spending_outpoints</th>\n      <th>prev_out.tx_index</th>\n      <th>prev_out.type</th>\n      <th>prev_out.addr</th>\n      <th>prev_out.value</th>\n      <th>prev_out.n</th>\n      <th>prev_out.script</th>\n      <th>lock_time</th>\n      <th>ver</th>\n      <th>size</th>\n      <th>weight</th>\n      <th>time</th>\n    </tr>\n  </thead>\n  <tbody>\n    <tr>\n      <th>0</th>\n      <td>4294967295</td>\n      <td></td>\n      <td>483045022100d89d0d108eb3b2215c3a724504d942d5ea...</td>\n      <td>True</td>\n      <td>[{'tx_index': 0, 'n': 0}]</td>\n      <td>0</td>\n      <td>0</td>\n      <td>1KH379RhFTL1dAzq45HkAkt7nU31vJh1ip</td>\n      <td>3190727</td>\n      <td>0</td>\n      <td>76a914c87aad6ddced2ad8e8b257632f14ee9636cbd1b4...</td>\n      <td>0</td>\n      <td>1</td>\n      <td>226</td>\n      <td>904</td>\n      <td>1611621833</td>\n    </tr>\n    <tr>\n      <th>1</th>\n      <td>4294967295</td>\n      <td></td>\n      <td>47304402204944e76b097a8b48a2542f69ae58f324bde3...</td>\n      <td>True</td>\n      <td>[{'tx_index': 0, 'n': 0}]</td>\n      <td>0</td>\n      <td>0</td>\n      <td>1PMf6Yon4GYVTCXeD4rKLTP5QKC52fCHDk</td>\n      <td>11950578</td>\n      <td>1</td>\n      <td>76a914f53ae31b575a268e904bf6ba7ad61acbc73fd713...</td>\n      <td>0</td>\n      <td>2</td>\n      <td>225</td>\n      <td>900</td>\n      <td>1611621833</td>\n    </tr>\n    <tr>\n      <th>2</th>\n      <td>4294967295</td>\n      <td></td>\n      <td>2200201b460a8741624af2e3cf2f43466b9d9dfdf287b9...</td>\n      <td>True</td>\n      <td>[{'tx_index': 0, 'n': 0}]</td>\n      <td>0</td>\n      <td>0</td>\n      <td>31n7Q4JQLL8xHmsna2yy1AS3JPe3KKpkTd</td>\n      <td>30949986</td>\n      <td>1</td>\n      <td>a91400f6a64b8936dc26bb6921388578937bfcff633e87</td>\n      <td>0</td>\n      <td>1</td>\n      <td>371</td>\n      <td>821</td>\n      <td>1611621833</td>\n    </tr>\n    <tr>\n      <th>3</th>\n      <td>4294967295</td>\n      <td></td>\n      <td>473044022062e277eea5c8ccb5d4c3f5a6ae23082de820...</td>\n      <td>True</td>\n      <td>[{'tx_index': 0, 'n': 0}]</td>\n      <td>0</td>\n      <td>0</td>\n      <td>1JQttqZ71TYREWkBEHjZqLRzxC6Bcvb4ih</td>\n      <td>1206555</td>\n      <td>1</td>\n      <td>76a914beff062f6aba9a3e906f1e729747dc0a08ced10b...</td>\n      <td>0</td>\n      <td>1</td>\n      <td>223</td>\n      <td>892</td>\n      <td>1611621833</td>\n    </tr>\n    <tr>\n      <th>4</th>\n      <td>4294967295</td>\n      <td></td>\n      <td>4830450221008d08197dafe1d3a58fe3743363fade8eb4...</td>\n      <td>True</td>\n      <td>[{'tx_index': 0, 'n': 0}]</td>\n      <td>0</td>\n      <td>0</td>\n      <td>14x8G9zJ8Em4Zj74t6GEbuaNf9yPBNR4hY</td>\n      <td>1141071</td>\n      <td>1</td>\n      <td>76a9142b555111612920d115cee985c31eebe57a45cf70...</td>\n      <td>0</td>\n      <td>1</td>\n      <td>226</td>\n      <td>904</td>\n      <td>1611621832</td>\n    </tr>\n    <tr>\n      <th>...</th>\n      <td>...</td>\n      <td>...</td>\n      <td>...</td>\n      <td>...</td>\n      <td>...</td>\n      <td>...</td>\n      <td>...</td>\n      <td>...</td>\n      <td>...</td>\n      <td>...</td>\n      <td>...</td>\n      <td>...</td>\n      <td>...</td>\n      <td>...</td>\n      <td>...</td>\n      <td>...</td>\n    </tr>\n    <tr>\n      <th>133</th>\n      <td>4294967295</td>\n      <td></td>\n      <td></td>\n      <td>True</td>\n      <td>[{'tx_index': 0, 'n': 0}]</td>\n      <td>0</td>\n      <td>0</td>\n      <td>NaN</td>\n      <td>12970000</td>\n      <td>2</td>\n      <td>00202439cb173e0826102aad636d65a9b439bc50f2bb35...</td>\n      <td>0</td>\n      <td>1</td>\n      <td>2127</td>\n      <td>4110</td>\n      <td>1611621822</td>\n    </tr>\n    <tr>\n      <th>134</th>\n      <td>4294967295</td>\n      <td></td>\n      <td></td>\n      <td>True</td>\n      <td>[{'tx_index': 0, 'n': 0}]</td>\n      <td>0</td>\n      <td>0</td>\n      <td>NaN</td>\n      <td>12980000</td>\n      <td>1</td>\n      <td>0020c063ae83925d9ab40903fb9dcfd9738545d11fb85d...</td>\n      <td>0</td>\n      <td>1</td>\n      <td>2127</td>\n      <td>4110</td>\n      <td>1611621822</td>\n    </tr>\n    <tr>\n      <th>135</th>\n      <td>4294967295</td>\n      <td></td>\n      <td>483045022100e907fdebe899194155ca5d619c8a0c3fde...</td>\n      <td>True</td>\n      <td>[{'tx_index': 0, 'n': 0}]</td>\n      <td>0</td>\n      <td>0</td>\n      <td>18nQqaTTEmJu98AtiKt4B8xxxPK5DuR2Ct</td>\n      <td>925630</td>\n      <td>56</td>\n      <td>76a914555f7f516cd535ad72debc7ffcf8794380979c09...</td>\n      <td>0</td>\n      <td>2</td>\n      <td>192</td>\n      <td>768</td>\n      <td>1611621821</td>\n    </tr>\n    <tr>\n      <th>136</th>\n      <td>4294967295</td>\n      <td></td>\n      <td>473044022072458c152a3675a629117c504d824493e55a...</td>\n      <td>True</td>\n      <td>[{'tx_index': 0, 'n': 0}]</td>\n      <td>0</td>\n      <td>0</td>\n      <td>1982XW9Rpwx9wxbdf7WE1Kc5t72zn2wnTm</td>\n      <td>1086700</td>\n      <td>6</td>\n      <td>76a91459153117775497af406dfd1c0affbfbb1069b172...</td>\n      <td>0</td>\n      <td>1</td>\n      <td>337</td>\n      <td>1348</td>\n      <td>1611621822</td>\n    </tr>\n    <tr>\n      <th>137</th>\n      <td>4294967295</td>\n      <td></td>\n      <td>483045022100cf8318f4a29ec7352dccec0b9c4d2d59fe...</td>\n      <td>True</td>\n      <td>[{'tx_index': 0, 'n': 0}]</td>\n      <td>0</td>\n      <td>0</td>\n      <td>1GSBLL5gZmNQyGePZYha5cpUP1NbPadDBD</td>\n      <td>2108858</td>\n      <td>0</td>\n      <td>76a914a94ce95cb7546efd7c978e5310bb46d2843ecd31...</td>\n      <td>0</td>\n      <td>1</td>\n      <td>337</td>\n      <td>1348</td>\n      <td>1611621822</td>\n    </tr>\n  </tbody>\n</table>\n<p>138 rows × 16 columns</p>\n</div>"
     },
     "metadata": {},
     "execution_count": 9
    }
   ],
   "source": [
    "import pandas as pd\n",
    "import json\n",
    "\n",
    "with open('unconfirmed-transactions.json') as json_file:\n",
    "    data = json.load(json_file)\n",
    "\n",
    "df = pd.json_normalize(data['txs'], record_path=['inputs'], meta=['lock_time', 'ver', 'size', 'weight', 'time'])\n",
    "df"
   ]
  },
  {
   "cell_type": "code",
   "execution_count": null,
   "metadata": {},
   "outputs": [],
   "source": [
    "df_outs = pd.json_normalize(data['txs'], record_path=['out'], meta=['lock_time', 'ver', 'size', 'weight', 'time'])"
   ]
  }
 ]
}